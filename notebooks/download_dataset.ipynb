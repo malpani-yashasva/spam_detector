{
 "cells": [
  {
   "cell_type": "code",
   "execution_count": 1,
   "id": "38f5edf8-5356-4224-8e60-3d3ea89f3828",
   "metadata": {},
   "outputs": [],
   "source": [
    "import pathlib\n",
    "BASE_DIR = pathlib.Path().resolve().parent\n",
    "SMS_SPAM_ZIP_PATH = BASE_DIR/\"data_zips/sms_spam_zip.zip\"\n",
    "YOUTUBE_SPAM_ZIP_PATH = BASE_DIR/\"data_zips/youtube_spam_zip.zip\"\n",
    "SMS_SPAM_PATH = BASE_DIR/\"spam_data_dir\"/\"sms_spam_data\"\n",
    "YT_SPAM_PATH = BASE_DIR/\"spam_data_dir\"/\"yt_spam_data\"\n",
    "SMS_SPAM_PATH.mkdir(exist_ok=True, parents=True)\n",
    "YT_SPAM_PATH.mkdir(exist_ok=True, parents=True)\n",
    "EXPORT_DIR = BASE_DIR/\"spam_data_dir\"/\"exports\"\n",
    "EXPORT_DIR.mkdir(exist_ok=True, parents=True)\n",
    "SPAM_DATASET_PATH = EXPORT_DIR/\"spam_dataset.csv\""
   ]
  },
  {
   "cell_type": "code",
   "execution_count": 2,
   "id": "9af870ab-8455-442b-91da-9bcac7b59b78",
   "metadata": {},
   "outputs": [],
   "source": [
    "from zipfile import ZipFile\n",
    "zipref1 = ZipFile(SMS_SPAM_ZIP_PATH)\n",
    "zipref1.extractall(SMS_SPAM_PATH)\n",
    "zipref1.close()\n",
    "zipref2 = ZipFile(YOUTUBE_SPAM_ZIP_PATH)\n",
    "zipref2.extractall(YT_SPAM_PATH)\n",
    "zipref2.close()"
   ]
  },
  {
   "cell_type": "code",
   "execution_count": 3,
   "id": "704ce6c4-18bb-42a4-9b5a-eea00ba8df62",
   "metadata": {},
   "outputs": [],
   "source": [
    "import pandas as pd"
   ]
  },
  {
   "cell_type": "code",
   "execution_count": 4,
   "id": "017c93e1-d3e8-49cb-b64e-eb906bd521fe",
   "metadata": {},
   "outputs": [
    {
     "data": {
      "text/html": [
       "<div>\n",
       "<style scoped>\n",
       "    .dataframe tbody tr th:only-of-type {\n",
       "        vertical-align: middle;\n",
       "    }\n",
       "\n",
       "    .dataframe tbody tr th {\n",
       "        vertical-align: top;\n",
       "    }\n",
       "\n",
       "    .dataframe thead th {\n",
       "        text-align: right;\n",
       "    }\n",
       "</style>\n",
       "<table border=\"1\" class=\"dataframe\">\n",
       "  <thead>\n",
       "    <tr style=\"text-align: right;\">\n",
       "      <th></th>\n",
       "      <th>label</th>\n",
       "      <th>text</th>\n",
       "      <th>source</th>\n",
       "    </tr>\n",
       "  </thead>\n",
       "  <tbody>\n",
       "    <tr>\n",
       "      <th>0</th>\n",
       "      <td>ham</td>\n",
       "      <td>Go until jurong point, crazy.. Available only ...</td>\n",
       "      <td>sms-spam</td>\n",
       "    </tr>\n",
       "    <tr>\n",
       "      <th>1</th>\n",
       "      <td>ham</td>\n",
       "      <td>Ok lar... Joking wif u oni...</td>\n",
       "      <td>sms-spam</td>\n",
       "    </tr>\n",
       "    <tr>\n",
       "      <th>2</th>\n",
       "      <td>spam</td>\n",
       "      <td>Free entry in 2 a wkly comp to win FA Cup fina...</td>\n",
       "      <td>sms-spam</td>\n",
       "    </tr>\n",
       "    <tr>\n",
       "      <th>3</th>\n",
       "      <td>ham</td>\n",
       "      <td>U dun say so early hor... U c already then say...</td>\n",
       "      <td>sms-spam</td>\n",
       "    </tr>\n",
       "    <tr>\n",
       "      <th>4</th>\n",
       "      <td>ham</td>\n",
       "      <td>Nah I don't think he goes to usf, he lives aro...</td>\n",
       "      <td>sms-spam</td>\n",
       "    </tr>\n",
       "  </tbody>\n",
       "</table>\n",
       "</div>"
      ],
      "text/plain": [
       "  label                                               text    source\n",
       "0   ham  Go until jurong point, crazy.. Available only ...  sms-spam\n",
       "1   ham                      Ok lar... Joking wif u oni...  sms-spam\n",
       "2  spam  Free entry in 2 a wkly comp to win FA Cup fina...  sms-spam\n",
       "3   ham  U dun say so early hor... U c already then say...  sms-spam\n",
       "4   ham  Nah I don't think he goes to usf, he lives aro...  sms-spam"
      ]
     },
     "execution_count": 4,
     "metadata": {},
     "output_type": "execute_result"
    }
   ],
   "source": [
    "sms_df = pd.read_csv(BASE_DIR/\"spam_data_dir/sms_spam_data/SMSSpamCollection\", sep = '\\t', header = None)\n",
    "sms_df.columns = ['label', 'text']\n",
    "sms_df['source'] = \"sms-spam\"\n",
    "sms_df.head()"
   ]
  },
  {
   "cell_type": "code",
   "execution_count": 5,
   "id": "7af46914-69a3-4dac-8520-25c0276bdf89",
   "metadata": {},
   "outputs": [],
   "source": [
    "yt_dfs = []\n",
    "for path in YT_SPAM_PATH.glob(\"*.csv\"):\n",
    "    df = pd.read_csv(path)\n",
    "    df.rename(columns = {\"CLASS\" : 'raw_label', \"CONTENT\" : 'text'}, inplace=True)\n",
    "    df['label'] = df['raw_label'].apply(lambda x : \"spam\" if str(x) == \"1\" else \"ham\")\n",
    "    df['source'] = \"yt-spam\"\n",
    "    yt_dfs.append(df)\n",
    "yt_df = pd.concat(yt_dfs)\n"
   ]
  },
  {
   "cell_type": "code",
   "execution_count": 6,
   "id": "04d103b8-9fa2-40d0-ac0b-9e0e5f84e870",
   "metadata": {},
   "outputs": [],
   "source": [
    "df = pd.concat([sms_df, yt_df[['label', 'text', 'source']]])"
   ]
  },
  {
   "cell_type": "code",
   "execution_count": 7,
   "id": "45e80027-4d49-48d0-8e39-ff93147b5b2e",
   "metadata": {},
   "outputs": [],
   "source": [
    "df.to_csv(SPAM_DATASET_PATH, index=False)"
   ]
  },
  {
   "cell_type": "code",
   "execution_count": null,
   "id": "237e6c87-5b99-46d9-9931-33651823cf58",
   "metadata": {},
   "outputs": [],
   "source": []
  }
 ],
 "metadata": {
  "kernelspec": {
   "display_name": "Python 3 (ipykernel)",
   "language": "python",
   "name": "python3"
  },
  "language_info": {
   "codemirror_mode": {
    "name": "ipython",
    "version": 3
   },
   "file_extension": ".py",
   "mimetype": "text/x-python",
   "name": "python",
   "nbconvert_exporter": "python",
   "pygments_lexer": "ipython3",
   "version": "3.12.1"
  }
 },
 "nbformat": 4,
 "nbformat_minor": 5
}
